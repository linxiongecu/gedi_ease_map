{
 "cells": [
  {
   "cell_type": "code",
   "execution_count": null,
   "id": "ccb05553-38d8-4a7a-ade4-218d102d7da9",
   "metadata": {},
   "outputs": [],
   "source": [
    "#gh3_extract_shots -o test_out -r TestOcean.gpkg  -l2a rh_098 --quality -n 10  --geo --merge"
   ]
  },
  {
   "cell_type": "code",
   "execution_count": 2,
   "id": "7ad9487d-fc57-4b45-b97c-0037716ad54f",
   "metadata": {},
   "outputs": [],
   "source": [
    "import pandas as pd\n",
    "df = pd.read_parquet('/gpfs/data1/vclgp/xiongl/GEDIglobal/data_tiles/X3_Y7.parquet')"
   ]
  },
  {
   "cell_type": "code",
   "execution_count": 3,
   "id": "5b70bf02-2132-4042-9441-b16d3d98959d",
   "metadata": {},
   "outputs": [
    {
     "data": {
      "text/plain": [
       "366552761"
      ]
     },
     "execution_count": 3,
     "metadata": {},
     "output_type": "execute_result"
    }
   ],
   "source": [
    "len(df)"
   ]
  },
  {
   "cell_type": "code",
   "execution_count": 4,
   "id": "5eb014ae-f16d-49ed-b30e-70a8ccddecee",
   "metadata": {},
   "outputs": [
    {
     "data": {
      "text/plain": [
       "array(['rh_098', 'lon_lowestmode', 'lat_lowestmode', 'shot_number',\n",
       "       'quality_flag', 'geometry'], dtype=object)"
      ]
     },
     "execution_count": 4,
     "metadata": {},
     "output_type": "execute_result"
    }
   ],
   "source": [
    "df.columns.values"
   ]
  },
  {
   "cell_type": "code",
   "execution_count": 5,
   "id": "0f1ab068-0779-4c56-98d4-cb86952e7105",
   "metadata": {},
   "outputs": [
    {
     "data": {
      "text/plain": [
       "<Axes: >"
      ]
     },
     "execution_count": 5,
     "metadata": {},
     "output_type": "execute_result"
    },
    {
     "data": {
      "image/png": "[encoded data removed]",
      "text/plain": [
       "<Figure size 640x480 with 1 Axes>"
      ]
     },
     "metadata": {},
     "output_type": "display_data"
    }
   ],
   "source": [
    "df['rh_098'].hist(bins = 20)"
   ]
  },
  {
   "cell_type": "code",
   "execution_count": 19,
   "id": "1cb24ca3-0628-4203-853f-355e083fa41d",
   "metadata": {},
   "outputs": [
    {
     "data": {
      "text/plain": [
       "(2894000, 5789000, 5270000, 5614000)"
      ]
     },
     "execution_count": 19,
     "metadata": {},
     "output_type": "execute_result"
    }
   ],
   "source": [
    "from pyproj import Transformer\n",
    "def get_tiles_x_y_new(grid_x = 1, grid_y = 1):\n",
    "        xmin = -180 + (grid_x - 1 )*30\n",
    "        xmax = -180 + grid_x *30\n",
    "        if grid_y  == 1: \n",
    "            ymin=-52\n",
    "            ymax=-50\n",
    "        if grid_y  == 2: \n",
    "            ymin=-50\n",
    "            ymax=-46\n",
    "        if grid_y  == 3: \n",
    "            ymin=-46\n",
    "            ymax=-38\n",
    "        if grid_y  == 4: \n",
    "            ymin=-38\n",
    "            ymax=-22\n",
    "        if grid_y  == 5: \n",
    "            ymin=-22\n",
    "            ymax=0\n",
    "        if grid_y  == 6: \n",
    "            ymin=0\n",
    "            ymax=22\n",
    "        if grid_y  == 7: \n",
    "            ymin=22\n",
    "            ymax=38\n",
    "        if grid_y  == 8: \n",
    "            ymin=38\n",
    "            ymax=46\n",
    "        if grid_y  == 9: \n",
    "            ymin=46\n",
    "            ymax=50\n",
    "        if grid_y  == 10: \n",
    "            ymin=50\n",
    "            ymax=52\n",
    "        #print(xmin,xmax, ymin, ymax)\n",
    "        transformer = Transformer.from_crs('epsg:4326', 'epsg:6933', always_xy=True)\n",
    "        ease_xmin, ease_ymin = transformer.transform(xmin,ymin)\n",
    "        ease_xmax, ease_ymax = transformer.transform(xmax,ymax)\n",
    "        return int(ease_xmin/1000)*1000, int(ease_xmax/1000)*1000, int(ease_ymin/1000)*1000, int(ease_ymax/1000)*1000\n",
    "get_tiles_x_y_new(8,9)"
   ]
  },
  {
   "cell_type": "code",
   "execution_count": 23,
   "id": "7183c464-eddc-41b4-a410-db6a3b3ceaf6",
   "metadata": {},
   "outputs": [],
   "source": [
    "# get tiles list \n",
    "tiles = glob.glob('/gpfs/data1/vclgp/xiongl/GEDIglobal/ease_tiles_v2/*.gpkg')"
   ]
  },
  {
   "cell_type": "code",
   "execution_count": 31,
   "id": "c1340b35-51ac-440e-a0ee-f83e188b4272",
   "metadata": {},
   "outputs": [],
   "source": [
    "import os\n",
    "data_lists = [os.path.basename(f)[:-5] for f in tiles]"
   ]
  },
  {
   "cell_type": "code",
   "execution_count": 35,
   "id": "ac400cd0-1268-4e82-b65d-04ed459cce6a",
   "metadata": {},
   "outputs": [
    {
     "data": {
      "text/plain": [
       "'X5_Y3'"
      ]
     },
     "execution_count": 35,
     "metadata": {},
     "output_type": "execute_result"
    }
   ],
   "source": [
    "data_lists [1]"
   ]
  },
  {
   "cell_type": "code",
   "execution_count": 47,
   "id": "8fba4479-18ef-47d4-9a46-d03a98737451",
   "metadata": {},
   "outputs": [],
   "source": [
    "fns=glob.glob('/gpfs/data1/vclgp/xiongl/GEDIglobal/result/*.nc')\n",
    "for p in fns:\n",
    "   input_string = os.path.basename(p)[:-3]\n",
    "   s = input_string.replace('_', '').replace('Y', '_Y')\n",
    "   if s not in data_lists:\n",
    "       print(s)\n",
    "       os.remove(p)"
   ]
  },
  {
   "cell_type": "code",
   "execution_count": 48,
   "id": "458ef06a-c6ff-407a-b642-1e3a505447de",
   "metadata": {},
   "outputs": [],
   "source": [
    "import glob\n",
    "input_files = glob.glob('/gpfs/data1/vclgp/xiongl/GEDIglobal/result/X*.tif')\n",
    "# Write the list of files to a text file\n",
    "with open(\"tiff_list.txt\", \"w\") as file:\n",
    "    for tiff_file in input_files:\n",
    "        file.write(f\"{tiff_file}\\n\")"
   ]
  },
  {
   "cell_type": "code",
   "execution_count": 52,
   "id": "583273ea-322d-43f0-8e41-b5b186a4e39f",
   "metadata": {},
   "outputs": [
    {
     "data": {
      "text/plain": [
       "6.441218496966183"
      ]
     },
     "execution_count": 52,
     "metadata": {},
     "output_type": "execute_result"
    }
   ],
   "source": [
    "#-12607202,5526443\n",
    "# -12607202,5267945 # 17109887,-5205618\n",
    "8/ ((12607000+17110000)/(5793000+5871000))"
   ]
  },
  {
   "cell_type": "code",
   "execution_count": null,
   "id": "245bde13-0b22-4945-9bf8-f6d70b6a6ba4",
   "metadata": {},
   "outputs": [],
   "source": []
  }
 ],
 "metadata": {
  "kernelspec": {
   "display_name": "Python 3 (ipykernel)",
   "language": "python",
   "name": "python3"
  },
  "language_info": {
   "codemirror_mode": {
    "name": "ipython",
    "version": 3
   },
   "file_extension": ".py",
   "mimetype": "text/x-python",
   "name": "python",
   "nbconvert_exporter": "python",
   "pygments_lexer": "ipython3",
   "version": "3.11.4"
  }
 },
 "nbformat": 4,
 "nbformat_minor": 5
}
