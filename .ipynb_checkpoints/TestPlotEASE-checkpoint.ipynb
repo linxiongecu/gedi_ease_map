{
 "cells": [
  {
   "cell_type": "code",
   "execution_count": 115,
   "id": "5d8c81c9-b856-4548-8588-51f5a4949008",
   "metadata": {},
   "outputs": [],
   "source": [
    "# import libraries\n",
    "import os\n",
    "import h5py\n",
    "import numpy as np\n",
    "import pandas as pd\n",
    "import geopandas as gpd\n",
    "from shapely.geometry import Point\n",
    "import numpy\n",
    "from pyproj import Transformer\n",
    "# filter \n",
    "# (1) quality_flag = 1; (2) sensitivity >0.95; and (3) RH100 > 5 m ---- lei ma et al."
   ]
  },
  {
   "cell_type": "code",
   "execution_count": 116,
   "id": "4d47f295-cbd2-4801-a6f1-0d29e3fbe192",
   "metadata": {},
   "outputs": [],
   "source": [
    "# 1 get variables"
   ]
  },
  {
   "cell_type": "code",
   "execution_count": 4,
   "id": "c1b70788-0bb3-4b4e-aedb-7e519e9ba6ea",
   "metadata": {},
   "outputs": [],
   "source": [
    "L2A = '/gpfs/data1/vclgp/data/iss_gedi/umd/ease2_grid_t072km/X158/Y108/GEDI02_A_MW023MW026_X158Y108_02_003_02_T072KM.h5'"
   ]
  },
  {
   "cell_type": "code",
   "execution_count": 76,
   "id": "9f085ac4-2e5c-4e36-ad5e-31f924d95a68",
   "metadata": {},
   "outputs": [
    {
     "data": {
      "text/plain": [
       "(-17295000, -17223000, 5729000, 5801000)"
      ]
     },
     "execution_count": 76,
     "metadata": {},
     "output_type": "execute_result"
    }
   ],
   "source": [
    "import glob\n",
    "import os\n",
    "get_grid_x_y(2, 22)"
   ]
  },
  {
   "cell_type": "code",
   "execution_count": 81,
   "id": "ba5b7b72-ebe1-477e-a616-5cab7b1c2ea7",
   "metadata": {},
   "outputs": [],
   "source": [
    "# (482, 203) X, Y    1-482   1-203\n",
    "directory_path = '/gpfs/data1/vclgp/data/iss_gedi/umd/ease2_grid_t072km/'\n",
    "for i in range(1, 483): #  1 - 482\n",
    "    for j in range(1, 204): # 1- 203\n",
    "        fo_i = '{:03d}'.format(i) # return a string.\n",
    "        fo_j = '{:03d}'.format(j) \n",
    "        # /gpfs/data1/vclgp/data/iss_gedi/umd/ease2_grid_t072km/X101/Y175\n",
    "        folder_path = directory_path + 'X'+fo_i + '/Y' +  fo_j\n",
    "        if os.path.exists(folder_path):\n",
    "            #print(folder_path)\n",
    "            write_data_2_csv(i, j)\n",
    "            # check if csv exist\n",
    "            data_folder = '/gpfs/data1/vclgp/xiongl/GEDIglobal/ease_data/'\n",
    "            name = 'GEDI02_A_X' + str(i) + '_Y' + str(j) + '.csv'\n",
    "            if os.path.exists(data_folder + name):                \n",
    "                xmin, xmax, ymin, ymax = get_grid_x_y(i, j)\n",
    "                # Run the shell script\n",
    "                subprocess.run(['bash', 'gmt_plot.sh', str(xmin), str(xmax), str(ymin),str(ymax), str(i), str(j)])\n",
    "                break"
   ]
  },
  {
   "cell_type": "code",
   "execution_count": 124,
   "id": "ad5cf6a0-791e-467d-beaf-6e4a783f73d3",
   "metadata": {},
   "outputs": [
    {
     "data": {
      "text/plain": [
       "array([   0,    0,    0, ..., 2010, 1471, 2078], dtype=int16)"
      ]
     },
     "execution_count": 124,
     "metadata": {},
     "output_type": "execute_result"
    }
   ],
   "source": [
    "gediL2A = h5py.File(L2A, 'r') \n",
    "beamNames = [g for g in gediL2A.keys() if g.startswith('BEAM')]\n",
    "gediL2A[f'{beamNames[1]}/geolocation/rh_a1'][:,98]"
   ]
  },
  {
   "cell_type": "code",
   "execution_count": 20,
   "id": "ae742597-fb83-42ff-8c87-6957511c924e",
   "metadata": {},
   "outputs": [],
   "source": [
    "def get_df_gedi(L2A='/gpfs/data1/vclgp/data/iss_gedi/umd/ease2_grid_t072km/X158/Y108/GEDI02_A_MW023MW026_X158Y108_02_003_02_T072KM.h5'):\n",
    "        gediL2A = h5py.File(L2A, 'r')  # Read file using h5py    \n",
    "        beamNames = [g for g in gediL2A.keys() if g.startswith('BEAM')]\n",
    "        res = []\n",
    "        for beamName in beamNames:\n",
    "                gediL2A_objs = []\n",
    "                gediL2A.visit(gediL2A_objs.append)                                           # Retrieve list of datasets\n",
    "                gediSDS = [o for o in gediL2A_objs if isinstance(gediL2A[o], h5py.Dataset)]  # Search for relevant SDS inside data file\n",
    "                [i for i in gediSDS if beamName in i and 'sensitivity' in i  ]\n",
    "                d_lats = gediL2A[f'{beamName}/geolocation/lat_lowestmode_a1'][()]\n",
    "                d_lons = gediL2A[f'{beamName}/geolocation/lon_lowestmode_a1'][()]\n",
    "                d_shots = gediL2A[f'{beamName}/shot_number'][()]\n",
    "                d_quality = gediL2A[f'{beamName}/geolocation/quality_flag_a1'][()]\n",
    "                d_rh = gediL2A[f'{beamName}/geolocation/rh_a1'][()] # 0---100\n",
    "                d_sens = gediL2A[f'{beamName}/geolocation/sensitivity_a1'][()]\n",
    "                lon, lat, shot, quality, beam, rh98, sensitivity = [], [], [], [], [], [], []  # Set up lists to store data\n",
    "                # Take every 100th shot and append to list\n",
    "                for i in range(len(d_shots)):\n",
    "                        shot.append(str(d_shots[i]))\n",
    "                        lon.append(d_lons[i])\n",
    "                        lat.append(d_lats[i])\n",
    "                        quality.append(d_quality[i])\n",
    "                        beam.append(beamName)\n",
    "                        rh98.append(d_rh[i,98]/100) # cm to m\n",
    "                        sensitivity.append(d_sens[i])\n",
    "                # Write all of the  shots to a dataframe\n",
    "                latslons = pd.DataFrame({'Beam': beam, 'ShotNumber': shot, 'Longitude': lon, 'Latitude': lat,\n",
    "                                         'QualityFlag': quality, 'rh98': rh98, 'sensitivity': sensitivity})\n",
    "                # We define forest as land cover with tree canopy height ≥ 5 m,\n",
    "                latslons = latslons[(latslons['rh98'] > 4.9) & (latslons['QualityFlag'] > 0) & (latslons['sensitivity'] > 0.95)]\n",
    "                res.append(latslons)\n",
    "        result_df = pd.concat(res, ignore_index=True)\n",
    "        return result_df"
   ]
  },
  {
   "cell_type": "code",
   "execution_count": 79,
   "id": "707e1fd4-4e9b-4710-81e0-7cbf7459df9d",
   "metadata": {},
   "outputs": [
    {
     "name": "stdout",
     "output_type": "stream",
     "text": [
      "(-17368000, -17295000, 7242000, 7315000)\n",
      "(-6053000, -5981000, -468000, -396000)\n"
     ]
    }
   ],
   "source": [
    "import glob\n",
    "def write_data_2_csv(i, j):\n",
    "        # save folder \n",
    "        data_folder = '/gpfs/data1/vclgp/xiongl/GEDIglobal/ease_data/'\n",
    "        name = 'GEDI02_A_X' + str(i) + '_Y' + str(j) + '.csv'\n",
    "        if os.path.exists(data_folder + name): return\n",
    "        fo_i = '{:03d}'.format(i) # return a string.\n",
    "        fo_j = '{:03d}'.format(j) \n",
    "        folder_path = directory_path + 'X'+ fo_i + '/Y' +   fo_j\n",
    "        l2a_files = glob.glob(folder_path + '/GEDI02_A_MW*.h5')\n",
    "        if (len(l2a_files) < 1): return\n",
    "        res_72km = []\n",
    "        for l2a in l2a_files:\n",
    "            res_72km.append(get_df_gedi(l2a))\n",
    "        res_72km = pd.concat(res_72km, ignore_index=True)\n",
    "        res_72km[['X', 'Y']] = res_72km.apply(transform_coordinates, axis=1)\n",
    "\n",
    "        # Save the DataFrame to a CSV file\n",
    "        res_72km.to_csv(data_folder + name, index=False)\n",
    "# X_001 ---X_482\n",
    "# Y_001 --- Y_203\n",
    "# give me X_158, Y_108. return x_up_left, y_up_left\n",
    "def get_grid_x_y(grid_x = 1, grid_y = 1):\n",
    "        tilesize = 72\n",
    "        ease2_origin = -17367530.445161499083042, 7314540.830638599582016\n",
    "        ease2_nbins = int(34704 / tilesize + 0.5), int(14616 / tilesize + 0.5)\n",
    "        ease2_binsize = 1000.895023349556141*tilesize, 1000.895023349562052*tilesize\n",
    "        x_up_left = ease2_origin[0] + (grid_x - 1)*ease2_binsize[0]\n",
    "        y_up_left = ease2_origin[1] - (grid_y - 1)*ease2_binsize[1]\n",
    "        xmin = x_up_left\n",
    "        xmax = x_up_left + ease2_binsize[0]\n",
    "        ymin = y_up_left - ease2_binsize[1]\n",
    "        ymax = y_up_left\n",
    "        return round(xmin/1000)*1000, round(xmax/1000)*1000, round(ymin/1000)*1000,  round(ymax/1000)*1000# to integer\n",
    "print(get_grid_x_y(1,1))\n",
    "print(get_grid_x_y(158,108))\n",
    "import subprocess\n"
   ]
  },
  {
   "cell_type": "code",
   "execution_count": 71,
   "id": "88992257-7630-4b15-8200-61c390f66ee2",
   "metadata": {},
   "outputs": [],
   "source": [
    "\n",
    "# Beam,ShotNumber,Longitude,Latitude,QualityFlag,rh98,sensitivity\n",
    "def transform_coordinates(row):\n",
    "    transformer = Transformer.from_crs('epsg:4326', 'epsg:6933', always_xy=True)\n",
    "    lon, lat = row['Longitude'], row['Latitude']\n",
    "    x, y = transformer.transform(lon, lat)\n",
    "    return pd.Series({'X': x, 'Y': y})"
   ]
  },
  {
   "cell_type": "code",
   "execution_count": 54,
   "id": "354509e2-9274-4923-b101-d7d3885053f7",
   "metadata": {},
   "outputs": [],
   "source": [
    "# /gpfs/data1/vclgp/data/iss_gedi/umd/ease2_grid_t072km/X137/Y032/GEDI02_A_MW155MW158_X137Y032_02_003_02_T072KM.h5"
   ]
  },
  {
   "cell_type": "code",
   "execution_count": 28,
   "id": "d763d8ab-bd3a-4894-b401-e05b8450ea6c",
   "metadata": {},
   "outputs": [
    {
     "name": "stdout",
     "output_type": "stream",
     "text": [
      "108103\n"
     ]
    },
    {
     "data": {
      "text/plain": [
       "<Axes: >"
      ]
     },
     "execution_count": 28,
     "metadata": {},
     "output_type": "execute_result"
    },
    {
     "data": {
      "image/png": "[encoded data removed]",
      "text/plain": [
       "<Figure size 640x480 with 1 Axes>"
      ]
     },
     "metadata": {},
     "output_type": "display_data"
    }
   ],
   "source": [
    "print(len(res_72km))\n",
    "res_72km['rh98'].hist(bins=30)"
   ]
  },
  {
   "cell_type": "code",
   "execution_count": null,
   "id": "54d6ae9d-ccb4-464a-b6cb-861fcf9aca62",
   "metadata": {},
   "outputs": [],
   "source": []
  },
  {
   "cell_type": "code",
   "execution_count": null,
   "id": "56b36e42-234a-44c9-b8bf-6be1045fcc90",
   "metadata": {},
   "outputs": [],
   "source": []
  },
  {
   "cell_type": "code",
   "execution_count": 51,
   "id": "12a72869-ed2d-4613-9870-450385ce3b42",
   "metadata": {},
   "outputs": [
    {
     "name": "stdout",
     "output_type": "stream",
     "text": [
      "(-17368000, -17295000, 7242000, 7315000)\n",
      "(-6053000, -5981000, -468000, -396000)\n"
     ]
    }
   ],
   "source": []
  },
  {
   "cell_type": "code",
   "execution_count": 56,
   "id": "d4d76aeb-48dd-4be4-902e-b034772e8684",
   "metadata": {},
   "outputs": [
    {
     "name": "stdout",
     "output_type": "stream",
     "text": [
      "Input file size is 73, 73\n",
      "0...10...20...30...40...50...60...70...80...90...100 - done.\n"
     ]
    },
    {
     "data": {
      "text/plain": [
       "CompletedProcess(args=['bash', 'gmt_plot.sh', '-6053000', '-5981000', '-468000', '-396000', '158', '108'], returncode=0)"
      ]
     },
     "execution_count": 56,
     "metadata": {},
     "output_type": "execute_result"
    }
   ],
   "source": [
    "# gridding\n",
    "# GEDI02_A_X158_Y108.csv\n",
    "# /gpfs/data1/vclgp/xiongl/GEDIglobal/ease_data\n",
    "# bash gmt_plot.sh -6053000   -5981000  -468000  -396000  158 108\n"
   ]
  },
  {
   "cell_type": "code",
   "execution_count": 193,
   "id": "7ecdcdc6-5e70-4e05-ba1f-d3e3bb267386",
   "metadata": {},
   "outputs": [
    {
     "data": {
      "text/plain": [
       "(array([158, 137], dtype=int16), array([108,  37], dtype=int16))"
      ]
     },
     "execution_count": 193,
     "metadata": {},
     "output_type": "execute_result"
    }
   ],
   "source": [
    "import numpy\n",
    "from pyproj import Transformer\n",
    "# ease grid \n",
    "\n",
    "def get_tile_id(longitude, latitude, tilesize=72):\n",
    "    ease2_origin = -17367530.445161499083042, 7314540.830638599582016\n",
    "    ease2_nbins = int(34704 / tilesize + 0.5), int(14616 / tilesize + 0.5)\n",
    "    ease2_binsize = 1000.895023349556141*tilesize, 1000.895023349562052*tilesize\n",
    "\n",
    "    valid = ~numpy.isnan(longitude) & ~numpy.isnan(latitude)\n",
    "    xidx = numpy.zeros(valid.shape[0], dtype=numpy.int16)\n",
    "    yidx = numpy.zeros(valid.shape[0], dtype=numpy.int16)\n",
    "\n",
    "    if numpy.any(valid):\n",
    "        transformer = Transformer.from_crs('epsg:4326', 'epsg:6933', always_xy=True)\n",
    "        x,y = transformer.transform(longitude[valid],latitude[valid])\n",
    "        xidx[valid] = numpy.int16( (x - ease2_origin[0]) / ease2_binsize[0]) + 1\n",
    "        yidx[valid] = numpy.int16( (ease2_origin[1] - y) / ease2_binsize[1]) + 1\n",
    "        numpy.clip(xidx, 0, ease2_nbins[0], out=xidx)\n",
    "        numpy.clip(yidx, 0, ease2_nbins[1], out=yidx)\n",
    "    return xidx, yidx\n",
    "# -3.4074507031464796, -62.23562469444448\n",
    "# 39.58851021141787, -78.13393302990848\n",
    "data = {'Latitude': [-3.4074507,39.58851021141787], 'Longitude': [-62.23562469,-78.13393302990848]} # amazon forestm, maryland\n",
    "df = pd.DataFrame(data)\n",
    "get_tile_id(df['Longitude'],df['Latitude'])\n",
    "# 158, 108"
   ]
  },
  {
   "cell_type": "code",
   "execution_count": 161,
   "id": "a868e2f4-24be-441b-90c2-7cae7c57d977",
   "metadata": {},
   "outputs": [
    {
     "data": {
      "text/plain": [
       "array([143, 144, 144, ..., 245, 245, 245], dtype=int16)"
      ]
     },
     "execution_count": 161,
     "metadata": {},
     "output_type": "execute_result"
    }
   ],
   "source": [
    "# read data\n",
    "df = pd.read_parquet('/gpfs/data1/vclgp/xiongl/GEDIglobal/l2a_data/GEDI02_A_2019142030259_O02489_03_T00140_02_003_01_V002_10algs.parquet')\n",
    "xidx, yidx = get_tile_id(df['Longitude'],df['Latitude'])\n",
    "xidx"
   ]
  },
  {
   "cell_type": "code",
   "execution_count": 91,
   "id": "b4cdb569-ab46-4d8a-964b-8f18c43a81a8",
   "metadata": {},
   "outputs": [
    {
     "data": {
      "text/plain": [
       "0"
      ]
     },
     "execution_count": 91,
     "metadata": {},
     "output_type": "execute_result"
    }
   ],
   "source": [
    "res_72km=[None, None, None]\n",
    "res_72km = [df for df in res_72km if df is not None]\n",
    "len(res_72km)"
   ]
  },
  {
   "cell_type": "code",
   "execution_count": 92,
   "id": "356f84cb-19c7-461b-8f3d-bae2239bfd59",
   "metadata": {},
   "outputs": [
    {
     "name": "stdout",
     "output_type": "stream",
     "text": [
      "\n",
      " # no quality shots in this 72km cell.\n"
     ]
    }
   ],
   "source": [
    "print('\\n # no quality shots in this 72km cell.')"
   ]
  },
  {
   "cell_type": "code",
   "execution_count": 94,
   "id": "97da8bdd-1348-4688-918b-1e35a700f22f",
   "metadata": {},
   "outputs": [
    {
     "data": {
      "text/plain": [
       "('X158', 'Y108')"
      ]
     },
     "execution_count": 94,
     "metadata": {},
     "output_type": "execute_result"
    }
   ],
   "source": [
    "import re\n",
    "\n",
    "input_string = '/gpfs/data1/vclgp/data/iss_gedi/umd/ease2_grid_t072km/X158/Y108/GEDI02_A_MW023MW026_X158Y108_02_003_02_T072KM.h5'\n",
    "\n",
    "X = re.search(r'X\\d+', input_string).group()\n",
    "Y = re.search(r'Y\\d+', input_string).group()\n",
    "X,Y"
   ]
  },
  {
   "cell_type": "code",
   "execution_count": null,
   "id": "07152d84-50ba-4f21-9f47-20ddb16d3a2a",
   "metadata": {},
   "outputs": [],
   "source": [
    "l2a_files = glob.glob('/gpfs/data1/vclgp/data/iss_gedi/umd/ease2_grid_t072km/*/*/GEDI02_A_MW*.h5')"
   ]
  },
  {
   "cell_type": "code",
   "execution_count": 107,
   "id": "eaf875bb-15b6-4a4b-867c-0303945bac0a",
   "metadata": {},
   "outputs": [],
   "source": [
    "directory_path = '/gpfs/data1/vclgp/data/iss_gedi/umd/ease2_grid_t072km/'\n",
    "def get_all_l2a_files():\n",
    "    l2a_all = []\n",
    "    for i in range(1, 483): #  1 - 482\n",
    "            for j in range(1, 204): # 1- 203\n",
    "                fo_i = '{:03d}'.format(i) # return a string.\n",
    "                fo_j = '{:03d}'.format(j) \n",
    "                folder_path = directory_path + 'X'+fo_i + '/Y' +  fo_j\n",
    "                if os.path.exists(folder_path):\n",
    "                    l2a_in_grids = glob.glob(folder_path+'/GEDI02_A_MW*.h5')\n",
    "                    if len(l2a_in_grids) >0:\n",
    "                        l2a_all.append(l2a_in_grids)\n",
    "    flattened_list = [element for sublist in l2a_all for element in sublist]\n",
    "    return flattened_list"
   ]
  },
  {
   "cell_type": "code",
   "execution_count": 108,
   "id": "50d6d131-cb01-43af-9f84-08f982798a79",
   "metadata": {},
   "outputs": [],
   "source": [
    "fs = get_all_l2a_files()"
   ]
  },
  {
   "cell_type": "code",
   "execution_count": 109,
   "id": "2e22e1cf-fdc5-4fe2-89a3-16d77aa9a8b4",
   "metadata": {},
   "outputs": [
    {
     "data": {
      "text/plain": [
       "1044654"
      ]
     },
     "execution_count": 109,
     "metadata": {},
     "output_type": "execute_result"
    }
   ],
   "source": [
    "len(fs)"
   ]
  },
  {
   "cell_type": "code",
   "execution_count": 165,
   "id": "ca126e85-0dff-4227-a4c3-37ec7711b245",
   "metadata": {},
   "outputs": [],
   "source": [
    "directory_path = '/gpfs/data1/vclgp/data/iss_gedi/umd/ease2_grid_t072km/'\n",
    "def get_all_grids():\n",
    "    grids_all = []\n",
    "    for i in range(1, 483): #  1 - 482\n",
    "            for j in range(1, 204): # 1- 203\n",
    "                fo_i = '{:03d}'.format(i) # return a string.\n",
    "                fo_j = '{:03d}'.format(j) \n",
    "                folder_path = directory_path + 'X'+fo_i + '/Y' +  fo_j\n",
    "                if os.path.exists(folder_path):\n",
    "                    grids_all.append(folder_path)\n",
    "    return grids_all"
   ]
  },
  {
   "cell_type": "code",
   "execution_count": 166,
   "id": "f32e4cf4-3cff-436b-a3e2-fe5825f9c5bc",
   "metadata": {},
   "outputs": [],
   "source": [
    "folders = get_all_grids()"
   ]
  },
  {
   "cell_type": "code",
   "execution_count": 186,
   "id": "492bd7cf-6dda-4109-852c-c1e6b9628be5",
   "metadata": {},
   "outputs": [
    {
     "data": {
      "text/plain": [
       "25660"
      ]
     },
     "execution_count": 186,
     "metadata": {},
     "output_type": "execute_result"
    }
   ],
   "source": [
    "len(folders)"
   ]
  },
  {
   "cell_type": "code",
   "execution_count": 187,
   "id": "7b9f964c-266f-44c7-88aa-3e81335cbc8d",
   "metadata": {},
   "outputs": [
    {
     "data": {
      "text/plain": [
       "0.0666796570537802"
      ]
     },
     "execution_count": 187,
     "metadata": {},
     "output_type": "execute_result"
    }
   ],
   "source": [
    "1711/25660"
   ]
  },
  {
   "cell_type": "code",
   "execution_count": 177,
   "id": "15bd3808-a9fb-4c10-b140-c79ede743abf",
   "metadata": {},
   "outputs": [
    {
     "data": {
      "text/plain": [
       "1"
      ]
     },
     "execution_count": 177,
     "metadata": {},
     "output_type": "execute_result"
    }
   ],
   "source": [
    "len(folders)\n",
    "folders[1].split('/')[-1][1:]\n",
    "int(folders[1].split('/')[-2][1:])"
   ]
  },
  {
   "cell_type": "code",
   "execution_count": 178,
   "id": "650c1994-f3cd-4adf-955c-23acd8fb9e63",
   "metadata": {},
   "outputs": [],
   "source": [
    "name = 'GEDI02_A_X*.csv'\n",
    "data_folder = '/gpfs/data1/vclgp/xiongl/GEDIglobal/ease_data/'\n",
    "csvfiles = glob.glob(data_folder + name)"
   ]
  },
  {
   "cell_type": "code",
   "execution_count": 185,
   "id": "2adb653f-6a3d-4129-aa90-2eb5dbffc7eb",
   "metadata": {},
   "outputs": [
    {
     "data": {
      "text/plain": [
       "'106'"
      ]
     },
     "execution_count": 185,
     "metadata": {},
     "output_type": "execute_result"
    }
   ],
   "source": [
    "os.path.basename(csvfiles[1])[:-4].split('_')[-1][1:]"
   ]
  },
  {
   "cell_type": "code",
   "execution_count": 112,
   "id": "2215ee6d-9f25-4b17-9b79-d800579bd9d9",
   "metadata": {},
   "outputs": [],
   "source": [
    "# Open the file in write mode\n",
    "with open('t72km_files.txt', 'w') as file:\n",
    "    # Write each element of the list to a new line\n",
    "    for item in fs:\n",
    "        file.write(str(item) + '\\n')"
   ]
  },
  {
   "cell_type": "code",
   "execution_count": 114,
   "id": "2addd23a-1b8a-44e8-955e-d35339a9b063",
   "metadata": {},
   "outputs": [
    {
     "data": {
      "text/plain": [
       "1044654"
      ]
     },
     "execution_count": 114,
     "metadata": {},
     "output_type": "execute_result"
    }
   ],
   "source": [
    "\n",
    "# Open the file in read mode\n",
    "with open('t72km_files.txt', 'r') as file:\n",
    "    # Read each line from the file into a list\n",
    "    lines = file.readlines()\n",
    "\n",
    "# Optionally, you may want to remove newline characters from each line\n",
    "lines = [line.strip() for line in lines]\n",
    "\n",
    "# Print or use the resulting list\n",
    "len(lines)\n"
   ]
  },
  {
   "cell_type": "code",
   "execution_count": 163,
   "id": "1ed8ce55-84cf-4889-a862-418e74a2a199",
   "metadata": {},
   "outputs": [
    {
     "data": {
      "text/plain": [
       "0.0010405359094973073"
      ]
     },
     "execution_count": 163,
     "metadata": {},
     "output_type": "execute_result"
    }
   ],
   "source": []
  },
  {
   "cell_type": "code",
   "execution_count": 153,
   "id": "58dce64a-a34a-4359-885c-4ded40272851",
   "metadata": {},
   "outputs": [],
   "source": [
    "#@dask.delayed\n",
    "def get_df_gedi(L2A='/gpfs/data1/vclgp/data/iss_gedi/umd/ease2_grid_t072km/X158/Y108/GEDI02_A_MW023MW026_X158Y108_02_003_02_T072KM.h5'):\n",
    "        #print('# processing: ', L2A)\n",
    "        gediL2A = h5py.File(L2A, 'r')  # Read file using h5py    \n",
    "        beamNames = [g for g in gediL2A.keys() if g.startswith('BEAM')]\n",
    "        res = []\n",
    "        for beamName in beamNames:\n",
    "                latslons = pd.DataFrame()\n",
    "                latslons['ShotNumber'] = gediL2A[f'{beamName}/shot_number'][()]\n",
    "                latslons['Longitude'] = gediL2A[f'{beamName}/geolocation/lon_lowestmode_a1'][()]\n",
    "                latslons['Latitude'] = gediL2A[f'{beamName}/geolocation/lat_lowestmode_a1'][()]\n",
    "                latslons['QualityFlag'] = gediL2A[f'{beamName}/geolocation/quality_flag_a1'][()]\n",
    "                latslons['rh98']= gediL2A[f'{beamName}/geolocation/rh_a1'][:,98]/100 # 0---100 2d array\n",
    "                latslons['sensitivity'] = gediL2A[f'{beamName}/geolocation/sensitivity_a1'][()]\n",
    "                latslons.insert(0,'Beam', beamName)\n",
    "                lon, lat, shot, quality, beam, rh98, sensitivity = [], [], [], [], [], [], []  # Set up lists to store data\n",
    "                # We define forest as land cover with tree canopy height ≥ 5 m,\n",
    "                latslons = latslons[(latslons['rh98'] > 4.9) & (latslons['QualityFlag'] > 0) & (latslons['sensitivity'] > 0.95)]\n",
    "                if len(latslons) >0:\n",
    "                        res.append(latslons)\n",
    "        if len(res) == 0: return\n",
    "        result_df = pd.concat(res, ignore_index=True)\n",
    "        return result_df"
   ]
  },
  {
   "cell_type": "code",
   "execution_count": 128,
   "id": "9071554f-4556-4cdf-a731-4120c0cbe713",
   "metadata": {},
   "outputs": [
    {
     "data": {
      "text/html": [
       "<div>\n",
       "<style scoped>\n",
       "    .dataframe tbody tr th:only-of-type {\n",
       "        vertical-align: middle;\n",
       "    }\n",
       "\n",
       "    .dataframe tbody tr th {\n",
       "        vertical-align: top;\n",
       "    }\n",
       "\n",
       "    .dataframe thead th {\n",
       "        text-align: right;\n",
       "    }\n",
       "</style>\n",
       "<table border=\"1\" class=\"dataframe\">\n",
       "  <thead>\n",
       "    <tr style=\"text-align: right;\">\n",
       "      <th></th>\n",
       "      <th>Beam</th>\n",
       "      <th>ShotNumber</th>\n",
       "      <th>Longitude</th>\n",
       "      <th>Latitude</th>\n",
       "      <th>QualityFlag</th>\n",
       "      <th>rh98</th>\n",
       "      <th>sensitivity</th>\n",
       "    </tr>\n",
       "  </thead>\n",
       "  <tbody>\n",
       "    <tr>\n",
       "      <th>0</th>\n",
       "      <td>BEAM0000</td>\n",
       "      <td>25990000400293493</td>\n",
       "      <td>-62.736722</td>\n",
       "      <td>-3.211650</td>\n",
       "      <td>1</td>\n",
       "      <td>8.76</td>\n",
       "      <td>0.951230</td>\n",
       "    </tr>\n",
       "    <tr>\n",
       "      <th>1</th>\n",
       "      <td>BEAM0000</td>\n",
       "      <td>25990000400293515</td>\n",
       "      <td>-62.730161</td>\n",
       "      <td>-3.220910</td>\n",
       "      <td>1</td>\n",
       "      <td>24.78</td>\n",
       "      <td>0.957693</td>\n",
       "    </tr>\n",
       "    <tr>\n",
       "      <th>2</th>\n",
       "      <td>BEAM0000</td>\n",
       "      <td>25990000400293541</td>\n",
       "      <td>-62.722127</td>\n",
       "      <td>-3.232250</td>\n",
       "      <td>1</td>\n",
       "      <td>12.73</td>\n",
       "      <td>0.955370</td>\n",
       "    </tr>\n",
       "    <tr>\n",
       "      <th>3</th>\n",
       "      <td>BEAM0000</td>\n",
       "      <td>25990000400293566</td>\n",
       "      <td>-62.714385</td>\n",
       "      <td>-3.243195</td>\n",
       "      <td>1</td>\n",
       "      <td>25.61</td>\n",
       "      <td>0.951047</td>\n",
       "    </tr>\n",
       "    <tr>\n",
       "      <th>4</th>\n",
       "      <td>BEAM0000</td>\n",
       "      <td>25990000400293573</td>\n",
       "      <td>-62.712298</td>\n",
       "      <td>-3.246144</td>\n",
       "      <td>1</td>\n",
       "      <td>27.37</td>\n",
       "      <td>0.952322</td>\n",
       "    </tr>\n",
       "    <tr>\n",
       "      <th>...</th>\n",
       "      <td>...</td>\n",
       "      <td>...</td>\n",
       "      <td>...</td>\n",
       "      <td>...</td>\n",
       "      <td>...</td>\n",
       "      <td>...</td>\n",
       "      <td>...</td>\n",
       "    </tr>\n",
       "    <tr>\n",
       "      <th>4754</th>\n",
       "      <td>BEAM1011</td>\n",
       "      <td>26681100100067972</td>\n",
       "      <td>-62.169635</td>\n",
       "      <td>-3.110909</td>\n",
       "      <td>1</td>\n",
       "      <td>29.77</td>\n",
       "      <td>0.980183</td>\n",
       "    </tr>\n",
       "    <tr>\n",
       "      <th>4755</th>\n",
       "      <td>BEAM1011</td>\n",
       "      <td>26681100100067973</td>\n",
       "      <td>-62.169340</td>\n",
       "      <td>-3.110491</td>\n",
       "      <td>1</td>\n",
       "      <td>13.36</td>\n",
       "      <td>0.981879</td>\n",
       "    </tr>\n",
       "    <tr>\n",
       "      <th>4756</th>\n",
       "      <td>BEAM1011</td>\n",
       "      <td>26681100100067974</td>\n",
       "      <td>-62.169042</td>\n",
       "      <td>-3.110069</td>\n",
       "      <td>1</td>\n",
       "      <td>10.44</td>\n",
       "      <td>0.958690</td>\n",
       "    </tr>\n",
       "    <tr>\n",
       "      <th>4757</th>\n",
       "      <td>BEAM1011</td>\n",
       "      <td>26681100100067976</td>\n",
       "      <td>-62.168444</td>\n",
       "      <td>-3.109223</td>\n",
       "      <td>1</td>\n",
       "      <td>22.76</td>\n",
       "      <td>0.952108</td>\n",
       "    </tr>\n",
       "    <tr>\n",
       "      <th>4758</th>\n",
       "      <td>BEAM1011</td>\n",
       "      <td>26681100100067977</td>\n",
       "      <td>-62.168144</td>\n",
       "      <td>-3.108799</td>\n",
       "      <td>1</td>\n",
       "      <td>23.63</td>\n",
       "      <td>0.973637</td>\n",
       "    </tr>\n",
       "  </tbody>\n",
       "</table>\n",
       "<p>4759 rows × 7 columns</p>\n",
       "</div>"
      ],
      "text/plain": [
       "          Beam         ShotNumber  Longitude  Latitude  QualityFlag   rh98  \\\n",
       "0     BEAM0000  25990000400293493 -62.736722 -3.211650            1   8.76   \n",
       "1     BEAM0000  25990000400293515 -62.730161 -3.220910            1  24.78   \n",
       "2     BEAM0000  25990000400293541 -62.722127 -3.232250            1  12.73   \n",
       "3     BEAM0000  25990000400293566 -62.714385 -3.243195            1  25.61   \n",
       "4     BEAM0000  25990000400293573 -62.712298 -3.246144            1  27.37   \n",
       "...        ...                ...        ...       ...          ...    ...   \n",
       "4754  BEAM1011  26681100100067972 -62.169635 -3.110909            1  29.77   \n",
       "4755  BEAM1011  26681100100067973 -62.169340 -3.110491            1  13.36   \n",
       "4756  BEAM1011  26681100100067974 -62.169042 -3.110069            1  10.44   \n",
       "4757  BEAM1011  26681100100067976 -62.168444 -3.109223            1  22.76   \n",
       "4758  BEAM1011  26681100100067977 -62.168144 -3.108799            1  23.63   \n",
       "\n",
       "      sensitivity  \n",
       "0        0.951230  \n",
       "1        0.957693  \n",
       "2        0.955370  \n",
       "3        0.951047  \n",
       "4        0.952322  \n",
       "...           ...  \n",
       "4754     0.980183  \n",
       "4755     0.981879  \n",
       "4756     0.958690  \n",
       "4757     0.952108  \n",
       "4758     0.973637  \n",
       "\n",
       "[4759 rows x 7 columns]"
      ]
     },
     "execution_count": 128,
     "metadata": {},
     "output_type": "execute_result"
    }
   ],
   "source": [
    "get_df_gedi()"
   ]
  },
  {
   "cell_type": "code",
   "execution_count": 130,
   "id": "9ebb2cc3-0a1c-4d4c-b0a1-e8ddb2a8f4a3",
   "metadata": {},
   "outputs": [
    {
     "data": {
      "text/plain": [
       "51"
      ]
     },
     "execution_count": 130,
     "metadata": {},
     "output_type": "execute_result"
    }
   ],
   "source": [
    "l2a_files = glob.glob('/gpfs/data1/vclgp/data/iss_gedi/umd/ease2_grid_t072km/X422/Y032/GEDI02_A_MW*.h5')\n",
    "len(l2a_files)"
   ]
  },
  {
   "cell_type": "code",
   "execution_count": 133,
   "id": "0d334f9d-b971-4bb3-bc23-69ab526620de",
   "metadata": {},
   "outputs": [],
   "source": [
    "import dask\n",
    "res_72km = []\n",
    "for l2a in l2a_files:\n",
    "    res_72km.append(get_df_gedi(l2a))"
   ]
  },
  {
   "cell_type": "code",
   "execution_count": 136,
   "id": "e36ffe72-8284-4ca5-b3eb-025f236640e4",
   "metadata": {
    "scrolled": true
   },
   "outputs": [],
   "source": [
    "res_72km = dask.compute(res_72km)"
   ]
  },
  {
   "cell_type": "code",
   "execution_count": 144,
   "id": "7dc06a34-b14c-414f-a36a-0a6cc68dc37b",
   "metadata": {},
   "outputs": [
    {
     "data": {
      "text/plain": [
       "list"
      ]
     },
     "execution_count": 144,
     "metadata": {},
     "output_type": "execute_result"
    }
   ],
   "source": [
    "type(res_72km[0])"
   ]
  },
  {
   "cell_type": "code",
   "execution_count": 145,
   "id": "060f691e-7640-4557-ad12-396fa1239067",
   "metadata": {},
   "outputs": [],
   "source": [
    "final = pd.concat(res_72km[0], ignore_index=True)"
   ]
  },
  {
   "cell_type": "code",
   "execution_count": 147,
   "id": "932506cb-ffa5-4af6-8b7a-f61c1ad14e15",
   "metadata": {},
   "outputs": [
    {
     "data": {
      "text/plain": [
       "246817"
      ]
     },
     "execution_count": 147,
     "metadata": {},
     "output_type": "execute_result"
    }
   ],
   "source": [
    "len(final)"
   ]
  },
  {
   "cell_type": "code",
   "execution_count": 148,
   "id": "2cdd31b2-3c6f-4caf-ad84-36d55402f780",
   "metadata": {},
   "outputs": [],
   "source": [
    "#### test direclty extract method \n",
    "import glob\n",
    "all_l2a_files = glob.glob('/gpfs/data1/vclgp/data/iss_gedi/soc/*/*/GEDI02_A*.h5')"
   ]
  },
  {
   "cell_type": "code",
   "execution_count": 149,
   "id": "d12e3dca-dbd6-4034-b032-ead235381073",
   "metadata": {},
   "outputs": [
    {
     "data": {
      "text/plain": [
       "76670"
      ]
     },
     "execution_count": 149,
     "metadata": {},
     "output_type": "execute_result"
    }
   ],
   "source": [
    "len(all_l2a_files)"
   ]
  },
  {
   "cell_type": "code",
   "execution_count": 154,
   "id": "57741fb5-a38e-402a-8857-e28d4229af1e",
   "metadata": {},
   "outputs": [
    {
     "data": {
      "text/html": [
       "<div>\n",
       "<style scoped>\n",
       "    .dataframe tbody tr th:only-of-type {\n",
       "        vertical-align: middle;\n",
       "    }\n",
       "\n",
       "    .dataframe tbody tr th {\n",
       "        vertical-align: top;\n",
       "    }\n",
       "\n",
       "    .dataframe thead th {\n",
       "        text-align: right;\n",
       "    }\n",
       "</style>\n",
       "<table border=\"1\" class=\"dataframe\">\n",
       "  <thead>\n",
       "    <tr style=\"text-align: right;\">\n",
       "      <th></th>\n",
       "      <th>Beam</th>\n",
       "      <th>ShotNumber</th>\n",
       "      <th>Longitude</th>\n",
       "      <th>Latitude</th>\n",
       "      <th>QualityFlag</th>\n",
       "      <th>rh98</th>\n",
       "      <th>sensitivity</th>\n",
       "    </tr>\n",
       "  </thead>\n",
       "  <tbody>\n",
       "    <tr>\n",
       "      <th>0</th>\n",
       "      <td>BEAM0000</td>\n",
       "      <td>55380000200135009</td>\n",
       "      <td>-1.307767</td>\n",
       "      <td>50.652805</td>\n",
       "      <td>1</td>\n",
       "      <td>6.05</td>\n",
       "      <td>0.950961</td>\n",
       "    </tr>\n",
       "    <tr>\n",
       "      <th>1</th>\n",
       "      <td>BEAM0000</td>\n",
       "      <td>55380000200146343</td>\n",
       "      <td>7.851650</td>\n",
       "      <td>51.619372</td>\n",
       "      <td>1</td>\n",
       "      <td>16.15</td>\n",
       "      <td>0.992136</td>\n",
       "    </tr>\n",
       "    <tr>\n",
       "      <th>2</th>\n",
       "      <td>BEAM0000</td>\n",
       "      <td>55380000200150179</td>\n",
       "      <td>11.022139</td>\n",
       "      <td>51.766692</td>\n",
       "      <td>1</td>\n",
       "      <td>12.64</td>\n",
       "      <td>0.983820</td>\n",
       "    </tr>\n",
       "    <tr>\n",
       "      <th>3</th>\n",
       "      <td>BEAM0001</td>\n",
       "      <td>55380100200065799</td>\n",
       "      <td>-68.570674</td>\n",
       "      <td>1.587671</td>\n",
       "      <td>1</td>\n",
       "      <td>16.30</td>\n",
       "      <td>0.951366</td>\n",
       "    </tr>\n",
       "    <tr>\n",
       "      <th>4</th>\n",
       "      <td>BEAM0001</td>\n",
       "      <td>55380100200077981</td>\n",
       "      <td>-64.903923</td>\n",
       "      <td>6.757754</td>\n",
       "      <td>1</td>\n",
       "      <td>6.99</td>\n",
       "      <td>0.950815</td>\n",
       "    </tr>\n",
       "    <tr>\n",
       "      <th>...</th>\n",
       "      <td>...</td>\n",
       "      <td>...</td>\n",
       "      <td>...</td>\n",
       "      <td>...</td>\n",
       "      <td>...</td>\n",
       "      <td>...</td>\n",
       "      <td>...</td>\n",
       "    </tr>\n",
       "    <tr>\n",
       "      <th>53324</th>\n",
       "      <td>BEAM1011</td>\n",
       "      <td>55381100200149725</td>\n",
       "      <td>14.767389</td>\n",
       "      <td>51.779876</td>\n",
       "      <td>1</td>\n",
       "      <td>8.30</td>\n",
       "      <td>0.966796</td>\n",
       "    </tr>\n",
       "    <tr>\n",
       "      <th>53325</th>\n",
       "      <td>BEAM1011</td>\n",
       "      <td>55381100200149727</td>\n",
       "      <td>14.769042</td>\n",
       "      <td>51.779870</td>\n",
       "      <td>1</td>\n",
       "      <td>11.82</td>\n",
       "      <td>0.969228</td>\n",
       "    </tr>\n",
       "    <tr>\n",
       "      <th>53326</th>\n",
       "      <td>BEAM1011</td>\n",
       "      <td>55381100200149728</td>\n",
       "      <td>14.769868</td>\n",
       "      <td>51.779868</td>\n",
       "      <td>1</td>\n",
       "      <td>19.45</td>\n",
       "      <td>0.974784</td>\n",
       "    </tr>\n",
       "    <tr>\n",
       "      <th>53327</th>\n",
       "      <td>BEAM1011</td>\n",
       "      <td>55381100200149731</td>\n",
       "      <td>14.772346</td>\n",
       "      <td>51.779859</td>\n",
       "      <td>1</td>\n",
       "      <td>7.18</td>\n",
       "      <td>0.966605</td>\n",
       "    </tr>\n",
       "    <tr>\n",
       "      <th>53328</th>\n",
       "      <td>BEAM1011</td>\n",
       "      <td>55381100200149733</td>\n",
       "      <td>14.773997</td>\n",
       "      <td>51.779853</td>\n",
       "      <td>1</td>\n",
       "      <td>9.61</td>\n",
       "      <td>0.973597</td>\n",
       "    </tr>\n",
       "  </tbody>\n",
       "</table>\n",
       "<p>53329 rows × 7 columns</p>\n",
       "</div>"
      ],
      "text/plain": [
       "           Beam         ShotNumber  Longitude   Latitude  QualityFlag   rh98  \\\n",
       "0      BEAM0000  55380000200135009  -1.307767  50.652805            1   6.05   \n",
       "1      BEAM0000  55380000200146343   7.851650  51.619372            1  16.15   \n",
       "2      BEAM0000  55380000200150179  11.022139  51.766692            1  12.64   \n",
       "3      BEAM0001  55380100200065799 -68.570674   1.587671            1  16.30   \n",
       "4      BEAM0001  55380100200077981 -64.903923   6.757754            1   6.99   \n",
       "...         ...                ...        ...        ...          ...    ...   \n",
       "53324  BEAM1011  55381100200149725  14.767389  51.779876            1   8.30   \n",
       "53325  BEAM1011  55381100200149727  14.769042  51.779870            1  11.82   \n",
       "53326  BEAM1011  55381100200149728  14.769868  51.779868            1  19.45   \n",
       "53327  BEAM1011  55381100200149731  14.772346  51.779859            1   7.18   \n",
       "53328  BEAM1011  55381100200149733  14.773997  51.779853            1   9.61   \n",
       "\n",
       "       sensitivity  \n",
       "0         0.950961  \n",
       "1         0.992136  \n",
       "2         0.983820  \n",
       "3         0.951366  \n",
       "4         0.950815  \n",
       "...            ...  \n",
       "53324     0.966796  \n",
       "53325     0.969228  \n",
       "53326     0.974784  \n",
       "53327     0.966605  \n",
       "53328     0.973597  \n",
       "\n",
       "[53329 rows x 7 columns]"
      ]
     },
     "execution_count": 154,
     "metadata": {},
     "output_type": "execute_result"
    }
   ],
   "source": [
    "get_df_gedi(all_l2a_files[1])"
   ]
  },
  {
   "cell_type": "code",
   "execution_count": 162,
   "id": "ea0ab7a7-f673-4a28-9a24-43444bb7d33c",
   "metadata": {},
   "outputs": [
    {
     "data": {
      "text/plain": [
       "'/gpfs/data1/vclgp/xiongl/GEDIglobal/result/X_100_Y_100.tif'"
      ]
     },
     "execution_count": 162,
     "metadata": {},
     "output_type": "execute_result"
    }
   ],
   "source": [
    "# not working for lage scale .\n",
    "i,j=100,100\n",
    "f\"/gpfs/data1/vclgp/xiongl/GEDIglobal/result/X_{i}_Y_{j}.tif\""
   ]
  },
  {
   "cell_type": "code",
   "execution_count": 188,
   "id": "d87ccecb-bfbc-4734-9893-b81830c9654c",
   "metadata": {},
   "outputs": [
    {
     "data": {
      "text/plain": [
       "(30, 1)"
      ]
     },
     "execution_count": 188,
     "metadata": {},
     "output_type": "execute_result"
    }
   ],
   "source": [
    "folder = '/gpfs/data1/vclgp/data/iss_gedi/umd/ease2_grid_t072km/X001/Y030'\n",
    "# save folder \n",
    "i=int(folder.split('/')[-1][1:])\n",
    "j=int(folder.split('/')[-2][1:])\n",
    "i, j"
   ]
  },
  {
   "cell_type": "code",
   "execution_count": 190,
   "id": "129f8cf1-11bf-4b09-a501-25b642c8ce6d",
   "metadata": {},
   "outputs": [
    {
     "data": {
      "text/plain": [
       "'/gpfs/data1/vclgp/xiongl/GEDIglobal/ease_data/GEDI02_A_X175_Y101.csv'"
      ]
     },
     "execution_count": 190,
     "metadata": {},
     "output_type": "execute_result"
    }
   ],
   "source": [
    "# get all csvs \n",
    "csvfiles = glob.glob('/gpfs/data1/vclgp/xiongl/GEDIglobal/ease_data/GEDI*.csv')\n",
    "csvfiles[1]"
   ]
  },
  {
   "cell_type": "code",
   "execution_count": 220,
   "id": "e7f94c5e-754c-4824-9a87-1d2cbd78074e",
   "metadata": {},
   "outputs": [
    {
     "name": "stderr",
     "output_type": "stream",
     "text": [
      "/gpfs/data1/vclgp/xiongl/env/linpy/lib/python3.11/site-packages/pyproj/transformer.py:820: FutureWarning: Calling float on a single element Series is deprecated and will raise a TypeError in the future. Use float(ser.iloc[0]) instead\n",
      "  return self._transformer._transform_point(\n",
      "/gpfs/data1/vclgp/xiongl/env/linpy/lib/python3.11/site-packages/pyproj/transformer.py:820: FutureWarning: Calling float on a single element Series is deprecated and will raise a TypeError in the future. Use float(ser.iloc[0]) instead\n",
      "  return self._transformer._transform_point(\n"
     ]
    }
   ],
   "source": [
    "import pandas as pd\n",
    "for f in csvfiles:\n",
    "    df = pd.read_csv(f)\n",
    "    xidx, yidx = get_tile_id(df[:2]['Longitude'], df[:2]['Latitude'])\n",
    "    i = int(os.path.basename(f)[:-4].split('_')[-2][1:])\n",
    "    j = int(os.path.basename(f)[:-4].split('_')[-1][1:])\n",
    "    if xidx[0] == i and yidx[0] == j: continue\n",
    "    print(xidx[0], yidx[0], i, j)"
   ]
  },
  {
   "cell_type": "code",
   "execution_count": 213,
   "id": "1245cb72-2326-4009-8bd4-fb965be3a928",
   "metadata": {},
   "outputs": [
    {
     "data": {
      "text/plain": [
       "(array([172, 172], dtype=int16), array([136, 136], dtype=int16))"
      ]
     },
     "execution_count": 213,
     "metadata": {},
     "output_type": "execute_result"
    }
   ],
   "source": [
    "get_tile_id(df[:2]['Longitude'], df[:2]['Latitude'])"
   ]
  },
  {
   "cell_type": "code",
   "execution_count": 210,
   "id": "81b203cb-322d-42d8-bd2e-09f49e771568",
   "metadata": {},
   "outputs": [
    {
     "data": {
      "text/plain": [
       "'/gpfs/data1/vclgp/xiongl/GEDIglobal/ease_data/GEDI02_A_X172_Y136.csv'"
      ]
     },
     "execution_count": 210,
     "metadata": {},
     "output_type": "execute_result"
    }
   ],
   "source": [
    "csvfiles[1000]"
   ]
  },
  {
   "cell_type": "code",
   "execution_count": 228,
   "id": "1c35a5ff-ad60-4d8e-98f3-9421e091cea1",
   "metadata": {},
   "outputs": [],
   "source": [
    "\n",
    "# Find all files with a .tif extension\n",
    "input_files = glob.glob('/gpfs/data1/vclgp/xiongl/GEDIglobal/result/X*.tif')\n",
    "# Write the list of files to a text file\n",
    "with open(\"tiff_list.txt\", \"w\") as file:\n",
    "    for tiff_file in input_files:\n",
    "        file.write(f\"{tiff_file}\\n\")"
   ]
  },
  {
   "cell_type": "code",
   "execution_count": null,
   "id": "31f23242-0839-4256-b566-b83f11903c02",
   "metadata": {},
   "outputs": [],
   "source": [
    "# gdal_merge.py -o mosaic.tif --optfile tiff_list.txt"
   ]
  }
 ],
 "metadata": {
  "kernelspec": {
   "display_name": "Python 3 (ipykernel)",
   "language": "python",
   "name": "python3"
  },
  "language_info": {
   "codemirror_mode": {
    "name": "ipython",
    "version": 3
   },
   "file_extension": ".py",
   "mimetype": "text/x-python",
   "name": "python",
   "nbconvert_exporter": "python",
   "pygments_lexer": "ipython3",
   "version": "3.11.4"
  }
 },
 "nbformat": 4,
 "nbformat_minor": 5
}
