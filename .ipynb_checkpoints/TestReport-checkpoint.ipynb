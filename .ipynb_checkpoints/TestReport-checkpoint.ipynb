{
 "cells": [
  {
   "cell_type": "code",
   "execution_count": 35,
   "id": "5869ba62-01b9-4911-a8dd-bc7e09707c63",
   "metadata": {},
   "outputs": [],
   "source": [
    "from PIL import Image, ImageDraw, ImageFont\n",
    "from reportlab.pdfgen import canvas\n",
    "\n",
    "def image_2_pdf(image_path, output_pdf_path, text):\n",
    "    # Open the JPEG image\n",
    "    image = Image.open(image_path)\n",
    "\n",
    "    # Create a drawing object\n",
    "    draw = ImageDraw.Draw(image)\n",
    "  \n",
    "    font_color = (0, 0, 255)  # white color\n",
    "    myFont = ImageFont.truetype('FreeMono.ttf', 80)\n",
    "    # Add text to the image\n",
    "    draw.text((1000, 80), text, font= myFont, fill=font_color)\n",
    "    # Create a PDF file\n",
    "    pdf = canvas.Canvas(pdf_path)\n",
    "\n",
    "    # Set the PDF dimensions based on the image size\n",
    "    pdf.setPageSize((image.width, image.height))\n",
    "\n",
    "    # Draw the image on the PDF\n",
    "    pdf.drawInlineImage(image_path, 0, 0, width=image.width, height=image.height)\n",
    "\n",
    "    # Save the PDF\n",
    "    pdf.save()\n",
    "\n"
   ]
  },
  {
   "cell_type": "code",
   "execution_count": null,
   "id": "17a99139-b3c6-415b-b2c4-093db23fe141",
   "metadata": {},
   "outputs": [],
   "source": []
  },
  {
   "cell_type": "code",
   "execution_count": 36,
   "id": "3899d0d3-db1f-4584-8a7e-eb5e9e0c7f8f",
   "metadata": {},
   "outputs": [
    {
     "name": "stdout",
     "output_type": "stream",
     "text": [
      "Conversion complete. PDF saved to australia_litchfield.pdf\n"
     ]
    }
   ],
   "source": [
    "if __name__ == \"__main__\":\n",
    "    # Specify the input JPEG file, output image file, output PDF file, and text to be added\n",
    "    input_image_path = \"/gpfs/data1/vclgp/xiongl/ProjectIS2CalVal/result/is2_calval_metrics/australia_litchfield.jpeg\"\n",
    "    output_pdf_path = \"australia_litchfield.pdf\"\n",
    "    text_to_add = \"australia_litchfield\"\n",
    "\n",
    "    add_text_to_image(input_image_path, output_pdf_path, text_to_add)\n",
    "\n",
    "    print(f\"Conversion complete. PDF saved to {output_pdf_path}\")"
   ]
  },
  {
   "cell_type": "code",
   "execution_count": null,
   "id": "a22ce54f-782e-4fc2-b6bc-1012e26c7c0c",
   "metadata": {},
   "outputs": [],
   "source": []
  }
 ],
 "metadata": {
  "kernelspec": {
   "display_name": "Python 3 (ipykernel)",
   "language": "python",
   "name": "python3"
  },
  "language_info": {
   "codemirror_mode": {
    "name": "ipython",
    "version": 3
   },
   "file_extension": ".py",
   "mimetype": "text/x-python",
   "name": "python",
   "nbconvert_exporter": "python",
   "pygments_lexer": "ipython3",
   "version": "3.11.4"
  }
 },
 "nbformat": 4,
 "nbformat_minor": 5
}
