{
 "cells": [
  {
   "cell_type": "markdown",
   "id": "fc208bae",
   "metadata": {},
   "source": [
    "Can I make a tile file in .gpkg format????"
   ]
  },
  {
   "cell_type": "markdown",
   "id": "ffe22b1b",
   "metadata": {},
   "source": [
    "Following code is created by chatGPT----"
   ]
  },
  {
   "cell_type": "code",
   "execution_count": 1,
   "id": "e37e4738",
   "metadata": {},
   "outputs": [],
   "source": [
    "import geopandas as gpd\n",
    "from shapely.geometry import Polygon\n",
    "# tiles\n",
    "# create all h3 l3 hexgon tiles . two many .... \n",
    "# no need to consider boundary then. "
   ]
  },
  {
   "cell_type": "code",
   "execution_count": 2,
   "id": "cf540d1a",
   "metadata": {},
   "outputs": [],
   "source": [
    "#!pip install geopandas"
   ]
  },
  {
   "cell_type": "code",
   "execution_count": 3,
   "id": "a900ca83",
   "metadata": {},
   "outputs": [],
   "source": [
    "# Define the coordinates of the rectangle vertices\n",
    "xmin, ymin = -70, 0  # Minimum x and y coordinates\n",
    "xmax, ymax =  -69, 1 # Maximum x and y coordinates"
   ]
  },
  {
   "cell_type": "code",
   "execution_count": 4,
   "id": "c9950a9f",
   "metadata": {},
   "outputs": [],
   "source": [
    "# Create the rectangle geometry using Shapely\n",
    "polygon = Polygon([(xmin, ymin), (xmax, ymin), (xmax, ymax), (xmin, ymax)])\n"
   ]
  },
  {
   "cell_type": "code",
   "execution_count": 5,
   "id": "b2bceaf3",
   "metadata": {},
   "outputs": [],
   "source": [
    "# Create a GeoDataFrame with the rectangle geometry\n",
    "data = {'id': [1], 'geometry': [polygon]}\n",
    "gdf = gpd.GeoDataFrame(data, geometry='geometry')"
   ]
  },
  {
   "cell_type": "code",
   "execution_count": 6,
   "id": "e27b9d36",
   "metadata": {},
   "outputs": [],
   "source": [
    "# Write the GeoDataFrame to the GeoPackage file\n",
    "gdf.to_file('tile.gpkg', driver='GPKG')"
   ]
  },
  {
   "cell_type": "code",
   "execution_count": 11,
   "id": "ca0d6af6",
   "metadata": {},
   "outputs": [],
   "source": [
    "### write a loop for global data tiles\n",
    "#!pip install h3pandas"
   ]
  },
  {
   "cell_type": "code",
   "execution_count": 15,
   "id": "907b0c99",
   "metadata": {},
   "outputs": [
    {
     "name": "stdout",
     "output_type": "stream",
     "text": [
      "     lng  lat\n",
      "0   -175  -85\n",
      "1   -165  -85\n",
      "2   -155  -85\n",
      "3   -145  -85\n",
      "4   -135  -85\n",
      "..   ...  ...\n",
      "643  135   85\n",
      "644  145   85\n",
      "645  155   85\n",
      "646  165   85\n",
      "647  175   85\n",
      "\n",
      "[648 rows x 2 columns]\n"
     ]
    }
   ],
   "source": [
    "#### h3 resolution 0 hex gons\n",
    "import h3\n",
    "import h3pandas\n",
    "import geopandas as gpd\n",
    "import numpy as np\n",
    "import pandas as pd\n",
    "\n",
    "# Define the range and interval\n",
    "lon_range = np.arange(-175, 185, 10)\n",
    "lat_range = np.arange(-85, 95, 10)\n",
    "\n",
    "# Create a meshgrid of longitude and latitude values\n",
    "lon, lat = np.meshgrid(lon_range, lat_range)\n",
    "\n",
    "# Create a DataFrame with the longitude and latitude values\n",
    "df = pd.DataFrame({'lng': lon.flatten(), 'lat': lat.flatten()})\n",
    "\n",
    "# Print the DataFrame\n",
    "print(df)\n",
    "\n"
   ]
  },
  {
   "cell_type": "code",
   "execution_count": 16,
   "id": "4ffda71f",
   "metadata": {},
   "outputs": [
    {
     "data": {
      "text/html": [
       "<div>\n",
       "<style scoped>\n",
       "    .dataframe tbody tr th:only-of-type {\n",
       "        vertical-align: middle;\n",
       "    }\n",
       "\n",
       "    .dataframe tbody tr th {\n",
       "        vertical-align: top;\n",
       "    }\n",
       "\n",
       "    .dataframe thead th {\n",
       "        text-align: right;\n",
       "    }\n",
       "</style>\n",
       "<table border=\"1\" class=\"dataframe\">\n",
       "  <thead>\n",
       "    <tr style=\"text-align: right;\">\n",
       "      <th></th>\n",
       "      <th>lng</th>\n",
       "      <th>lat</th>\n",
       "    </tr>\n",
       "    <tr>\n",
       "      <th>h3_00</th>\n",
       "      <th></th>\n",
       "      <th></th>\n",
       "    </tr>\n",
       "  </thead>\n",
       "  <tbody>\n",
       "    <tr>\n",
       "      <th>80f3fffffffffff</th>\n",
       "      <td>-175</td>\n",
       "      <td>-85</td>\n",
       "    </tr>\n",
       "    <tr>\n",
       "      <th>80f3fffffffffff</th>\n",
       "      <td>-165</td>\n",
       "      <td>-85</td>\n",
       "    </tr>\n",
       "    <tr>\n",
       "      <th>80f3fffffffffff</th>\n",
       "      <td>-155</td>\n",
       "      <td>-85</td>\n",
       "    </tr>\n",
       "    <tr>\n",
       "      <th>80f3fffffffffff</th>\n",
       "      <td>-145</td>\n",
       "      <td>-85</td>\n",
       "    </tr>\n",
       "    <tr>\n",
       "      <th>80f3fffffffffff</th>\n",
       "      <td>-135</td>\n",
       "      <td>-85</td>\n",
       "    </tr>\n",
       "  </tbody>\n",
       "</table>\n",
       "</div>"
      ],
      "text/plain": [
       "                 lng  lat\n",
       "h3_00                    \n",
       "80f3fffffffffff -175  -85\n",
       "80f3fffffffffff -165  -85\n",
       "80f3fffffffffff -155  -85\n",
       "80f3fffffffffff -145  -85\n",
       "80f3fffffffffff -135  -85"
      ]
     },
     "execution_count": 16,
     "metadata": {},
     "output_type": "execute_result"
    }
   ],
   "source": [
    "\n",
    "dfh3 = df.h3.geo_to_h3(0)\n",
    "dfh3.head()"
   ]
  },
  {
   "cell_type": "code",
   "execution_count": 13,
   "id": "1755d06f",
   "metadata": {},
   "outputs": [
    {
     "data": {
      "text/plain": [
       "<AxesSubplot:xlabel='lng', ylabel='lat'>"
      ]
     },
     "execution_count": 13,
     "metadata": {},
     "output_type": "execute_result"
    },
    {
     "data": {
      "image/png": "[encoded data removed]",
      "text/plain": [
       "<Figure size 432x720 with 1 Axes>"
      ]
     },
     "metadata": {
      "needs_background": "light"
     },
     "output_type": "display_data"
    }
   ],
   "source": [
    "df.plot.scatter(x='lng', y='lat', figsize=(6,10), alpha=0.9)"
   ]
  },
  {
   "cell_type": "code",
   "execution_count": 14,
   "id": "ac559f14",
   "metadata": {},
   "outputs": [],
   "source": [
    "dfh3 = dfh3.drop(columns=['lng', 'lat']).groupby('h3_00').sum()"
   ]
  },
  {
   "cell_type": "code",
   "execution_count": 15,
   "id": "11fddcb9",
   "metadata": {},
   "outputs": [
    {
     "data": {
      "text/html": [
       "<div>\n",
       "<style scoped>\n",
       "    .dataframe tbody tr th:only-of-type {\n",
       "        vertical-align: middle;\n",
       "    }\n",
       "\n",
       "    .dataframe tbody tr th {\n",
       "        vertical-align: top;\n",
       "    }\n",
       "\n",
       "    .dataframe thead th {\n",
       "        text-align: right;\n",
       "    }\n",
       "</style>\n",
       "<table border=\"1\" class=\"dataframe\">\n",
       "  <thead>\n",
       "    <tr style=\"text-align: right;\">\n",
       "      <th></th>\n",
       "      <th>geometry</th>\n",
       "    </tr>\n",
       "    <tr>\n",
       "      <th>h3_00</th>\n",
       "      <th></th>\n",
       "    </tr>\n",
       "  </thead>\n",
       "  <tbody>\n",
       "    <tr>\n",
       "      <th>8001fffffffffff</th>\n",
       "      <td>POLYGON ((31.83128 68.92996, 62.34534 69.39360...</td>\n",
       "    </tr>\n",
       "    <tr>\n",
       "      <th>8003fffffffffff</th>\n",
       "      <td>POLYGON ((145.55820 87.36470, -163.45687 76.14...</td>\n",
       "    </tr>\n",
       "    <tr>\n",
       "      <th>8005fffffffffff</th>\n",
       "      <td>POLYGON ((94.14309 76.16304, 117.81293 66.2032...</td>\n",
       "    </tr>\n",
       "    <tr>\n",
       "      <th>8007fffffffffff</th>\n",
       "      <td>POLYGON ((0.32561 73.31022, -34.75842 81.27137...</td>\n",
       "    </tr>\n",
       "    <tr>\n",
       "      <th>8009fffffffffff</th>\n",
       "      <td>POLYGON ((-10.44498 63.09505, 5.52365 55.70677...</td>\n",
       "    </tr>\n",
       "  </tbody>\n",
       "</table>\n",
       "</div>"
      ],
      "text/plain": [
       "                                                          geometry\n",
       "h3_00                                                             \n",
       "8001fffffffffff  POLYGON ((31.83128 68.92996, 62.34534 69.39360...\n",
       "8003fffffffffff  POLYGON ((145.55820 87.36470, -163.45687 76.14...\n",
       "8005fffffffffff  POLYGON ((94.14309 76.16304, 117.81293 66.2032...\n",
       "8007fffffffffff  POLYGON ((0.32561 73.31022, -34.75842 81.27137...\n",
       "8009fffffffffff  POLYGON ((-10.44498 63.09505, 5.52365 55.70677..."
      ]
     },
     "execution_count": 15,
     "metadata": {},
     "output_type": "execute_result"
    }
   ],
   "source": [
    "gdfh3 = dfh3.h3.h3_to_geo_boundary()\n",
    "gdfh3.head()"
   ]
  },
  {
   "cell_type": "code",
   "execution_count": 16,
   "id": "786303f3",
   "metadata": {},
   "outputs": [
    {
     "data": {
      "text/plain": [
       "<AxesSubplot:>"
      ]
     },
     "execution_count": 16,
     "metadata": {},
     "output_type": "execute_result"
    },
    {
     "data": {
      "image/png": "[encoded data removed]",
      "text/plain": [
       "<Figure size 720x720 with 1 Axes>"
      ]
     },
     "metadata": {
      "needs_background": "light"
     },
     "output_type": "display_data"
    }
   ],
   "source": [
    "gdfh3.plot(figsize=(10, 10))"
   ]
  },
  {
   "cell_type": "code",
   "execution_count": 18,
   "id": "db066c06",
   "metadata": {},
   "outputs": [],
   "source": [
    "import pyarrow\n",
    "gdfh3.to_parquet('h3_level0.parquet')"
   ]
  },
  {
   "cell_type": "code",
   "execution_count": null,
   "id": "7e9f3a77",
   "metadata": {},
   "outputs": [],
   "source": [
    "# h3 resolution 0, 122 unique index"
   ]
  }
 ],
 "metadata": {
  "kernelspec": {
   "display_name": "Python 3",
   "language": "python",
   "name": "python3"
  },
  "language_info": {
   "codemirror_mode": {
    "name": "ipython",
    "version": 3
   },
   "file_extension": ".py",
   "mimetype": "text/x-python",
   "name": "python",
   "nbconvert_exporter": "python",
   "pygments_lexer": "ipython3",
   "version": "3.8.8"
  }
 },
 "nbformat": 4,
 "nbformat_minor": 5
}
